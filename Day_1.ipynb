{
 "cells": [
  {
   "cell_type": "markdown",
   "id": "03e750bf",
   "metadata": {
    "tags": []
   },
   "source": [
    "# Introduction to Python (Day 1)"
   ]
  },
  {
   "cell_type": "markdown",
   "id": "28c02229-a3ff-472a-9602-e84a2aa09c5e",
   "metadata": {},
   "source": [
    "## A Reminder of How Programming Works\n",
    "\n",
    "In this summer studio, we won't really concern ourselves with anything but \"high level programming languages\", like Python. There are steps after you write your code (compiling, interpreting, etc.) that we will ignore. Throughout this notebook, you'll begin to learn what code in Python looks like and how to create useful programs. \n",
    "\n"
   ]
  },
  {
   "cell_type": "markdown",
   "id": "77a72ae9-4b7c-4ca7-9c5c-61249e186b0f",
   "metadata": {},
   "source": [
    "## Building up to a Game\n",
    "\n",
    "At the end of this lesson, you should be able to complete some basic \"fill in the blanks\" for the \"Asteroid Escape!\" game that we've provided for you. By the end of the week, you'll make your own simple game using the Pygame library"
   ]
  },
  {
   "cell_type": "markdown",
   "id": "9fcbcb78",
   "metadata": {},
   "source": [
    "## Comments\n",
    "Throughout the code examples below, you'll notice normal English sentences sprinkled in with at least one number sign (#) appearing at the beginning of the line. When the Python compiler sees this symbol, it ignores whatever follows until the end of the line. These *comments* are a way of adding documentation to your code, so that other people can follow along and you can remind yourself later of why you wrote your code a certain way. It is *very good (and professional!) practice* to write comments with your code so that people will be less confused if they try to read it."
   ]
  },
  {
   "cell_type": "code",
   "execution_count": null,
   "id": "b53d36c5",
   "metadata": {},
   "outputs": [],
   "source": [
    "# All of the lines in this code block are commented out.\n",
    "# Even though it looks like there is some code that could be run, it won't be.\n",
    "# To run the following code, delete the number sign (#) that appears at the beginning\n",
    "# of the line and press the \"Run\" button.\n",
    "#print(\"Hello World!\")"
   ]
  },
  {
   "cell_type": "markdown",
   "id": "74e5ea61-b6c9-4aac-8e02-e4d6214df868",
   "metadata": {},
   "source": [
    "## Variables\n",
    "*Variables* allow us to store data (e.g., numbers and words)."
   ]
  },
  {
   "cell_type": "code",
   "execution_count": null,
   "id": "da2e161b",
   "metadata": {},
   "outputs": [],
   "source": [
    "# The variable \"my_var1\" stores the number 10\n",
    "my_var1 = 10\n",
    "# The variable \"my_var2\" stores the word \"apple\"\n",
    "my_var2 = \"apple\""
   ]
  },
  {
   "cell_type": "markdown",
   "id": "471e9c20",
   "metadata": {},
   "source": [
    "Now that we have some variables with data stored inside them, we can access that data later."
   ]
  },
  {
   "cell_type": "code",
   "execution_count": null,
   "id": "ff35abf0",
   "metadata": {},
   "outputs": [],
   "source": [
    "# This line will tell the computer to print out whatever the data stored inside my_var1 is\n",
    "print(my_var1)\n",
    "# Likewise for my_var2\n",
    "print(my_var2)"
   ]
  },
  {
   "cell_type": "markdown",
   "id": "42c320d9",
   "metadata": {},
   "source": [
    "In general, we'll talk about four *primitive types* of variables in Python. These are:\n",
    "- Integers (sometimes called \"ints\"), which are whole numbers like -1, 15, 8, 0, and 12\n",
    "- Floating points (sometimes called \"floats\"), which are values like -1.85, 6.24, 8.11, and 12.00\n",
    "- Strings, which are text *enclosed in quotes* like \"a\", \"Digital Ready is awesome\", and \"TikTok is great!\"\n",
    "- Booleans (sometimes called \"bools\"), which are just the values True or False"
   ]
  },
  {
   "cell_type": "code",
   "execution_count": null,
   "id": "52052b05",
   "metadata": {
    "tags": []
   },
   "outputs": [],
   "source": [
    "# You can ignore this code for now. Simply run it and then continue to the next block.\n",
    "def whatType(a):\n",
    "    t = str(type(a))\n",
    "    if \"str\" in t:\n",
    "        return \"String\"\n",
    "    elif \"int\" in t:\n",
    "        return \"Integer\"\n",
    "    elif \"float\" in t:\n",
    "        return \"Floating Point\"\n",
    "    elif \"bool\" in t:\n",
    "        return \"Boolean\"\n",
    "    else:\n",
    "        return t"
   ]
  },
  {
   "cell_type": "code",
   "execution_count": null,
   "id": "a5c26330",
   "metadata": {
    "tags": []
   },
   "outputs": [],
   "source": [
    "# Take a look at each of the variables below and consider the descriptions you just read.\n",
    "# Try to predict what the \"whatType()\" function (which tells us the\n",
    "# type of a variable) will print out and check your answers by running the code.\n",
    "\n",
    "my_var3 = 10\n",
    "my_var4 = \"Python\"\n",
    "my_var5 = 78.142\n",
    "my_var6 = True\n",
    "my_var7 = \"32.145\"\n",
    "\n",
    "print(\"my_var3 is a/an \" + whatType(my_var3))\n",
    "print(\"my_var4 is a/an \" + whatType(my_var4))\n",
    "print(\"my_var5 is a/an \" + whatType(my_var5))\n",
    "print(\"my_var6 is a/an \" + whatType(my_var6))\n",
    "print(\"my_var7 is a/an \" + whatType(my_var7))"
   ]
  },
  {
   "cell_type": "markdown",
   "id": "acd13e60-95bf-4ede-8ea7-e62b5222e43c",
   "metadata": {},
   "source": [
    "One thing you'll have to consider whenever you write a program is how to represent certain data by using one of the types we've just learned. For each of the following descriptions of a type of data, figure out with your partner what type makes the most sense for this variable. Once you've done so, give that variable a reasonable value for that particular type."
   ]
  },
  {
   "cell_type": "code",
   "execution_count": null,
   "id": "d7216202",
   "metadata": {},
   "outputs": [],
   "source": [
    "# Example: Q0. The variable my_var8 should hold the sum of your age and your partner's age (in years).\n",
    "#          Type: Integer\n",
    "my_var8 = 32\n",
    "\n",
    "# Q1. my_var9 should hold the name of your lab leader\n",
    "# Type: ?\n",
    "my_var9 = ?\n",
    "\n",
    "# Q2. my_var10 should hold the first 3 digits of Pi\n",
    "# Type: ?\n",
    "my_var10 = ?\n",
    "\n",
    "# Q3. my_var11 and my_var12 should hold a compliment that each of you would give your partner.\n",
    "# Type: ?\n",
    "my_var11 = ?\n",
    "my_var12 = ?\n",
    "\n",
    "# Q4. my_var20 is the answer to a True/False statement like \"It is currently sunny outside.\"\n",
    "# Type: ?\n",
    "my_var20 = ?"
   ]
  },
  {
   "cell_type": "markdown",
   "id": "fe7e9516",
   "metadata": {},
   "source": [
    "Once we have data stored inside of variables, we can perform operations on those variables (e.g., adding them)."
   ]
  },
  {
   "cell_type": "code",
   "execution_count": null,
   "id": "f08e0a86",
   "metadata": {},
   "outputs": [],
   "source": [
    "my_var13 = 5\n",
    "my_var14 = 6\n",
    "print(my_var13 + my_var14)\n",
    "print(my_var13 - my_var14)\n",
    "print(my_var13 * my_var14)"
   ]
  },
  {
   "cell_type": "markdown",
   "id": "5c5d1a5b",
   "metadata": {},
   "source": [
    "If you try to add types that don't work together, Python will complain to you. Run the following code and Python will give a \"TypeError\"; Python doesn't know how to add a string to an integer."
   ]
  },
  {
   "cell_type": "code",
   "execution_count": null,
   "id": "fd3eda8f",
   "metadata": {},
   "outputs": [],
   "source": [
    "my_var15 = \"This is a string.\"\n",
    "my_var16 = 5\n",
    "print(my_var15 + my_var16)"
   ]
  },
  {
   "cell_type": "markdown",
   "id": "1a41ac34",
   "metadata": {},
   "source": [
    "## Input and Output (I/O)"
   ]
  },
  {
   "cell_type": "markdown",
   "id": "e2b34970",
   "metadata": {},
   "source": [
    "Up to this point, our code hasn't interacted with us as users. Python allows us to accept input from a user so that we can then do something with it. The command (*function*) that allows us to do this is \"input()\". "
   ]
  },
  {
   "cell_type": "code",
   "execution_count": null,
   "id": "98d9c2bc",
   "metadata": {},
   "outputs": [],
   "source": [
    "# We can ask the user to enter their name, and then show it back to them.\n",
    "print(\"Please type in your name and then press the 'Enter' key:\")\n",
    "my_name = input()\n",
    "print(\"Hello,\", my_name, \"!\")"
   ]
  },
  {
   "cell_type": "markdown",
   "id": "6dd99d19",
   "metadata": {},
   "source": [
    "Be careful, Python treats the user's input as a *String*!"
   ]
  },
  {
   "cell_type": "code",
   "execution_count": null,
   "id": "7710f612",
   "metadata": {},
   "outputs": [],
   "source": [
    "# This won't work as expected...\n",
    "print(\"Please enter your favorite number:\")\n",
    "my_fave_number = input()\n",
    "print(\"Here's your favorite number plus 10\", my_fave_number + 10)"
   ]
  },
  {
   "cell_type": "markdown",
   "id": "2a62f0c4",
   "metadata": {},
   "source": [
    "We'll discuss functions tomorrow but, for now, just know that we can use special commands to convert between different types of data *when it makes sense to*. For example, we can convert the *string* \"10\" to the *integer* 10 using the \"int()\" function."
   ]
  },
  {
   "cell_type": "code",
   "execution_count": null,
   "id": "82dcabcc",
   "metadata": {},
   "outputs": [],
   "source": [
    "# This works because we convert \"10\" from being a string to instead being an integer, BEFORE adding 30\n",
    "print(30 + int(\"10\"))"
   ]
  },
  {
   "cell_type": "markdown",
   "id": "b89a5404",
   "metadata": {},
   "source": [
    "Using what you just learned about converting between types of variables, correct the code from above so that there isn't a TypeError."
   ]
  },
  {
   "cell_type": "code",
   "execution_count": null,
   "id": "4d3948a1",
   "metadata": {},
   "outputs": [],
   "source": [
    "print(\"Please enter your favorite number:\")\n",
    "my_fave_number = input()\n",
    "print(\"Here's your favorite number plus 10\", my_fave_number + 10)"
   ]
  },
  {
   "cell_type": "markdown",
   "id": "542bd4bb",
   "metadata": {},
   "source": [
    "For now, we'll stick to the input() function as a way to get data from the user running our code. "
   ]
  },
  {
   "cell_type": "markdown",
   "id": "2517cbc1",
   "metadata": {},
   "source": [
    "You have already learned one way to display output to the screen: the print() function. This function expects strings, but will *implicitly change other types when it can*. "
   ]
  },
  {
   "cell_type": "code",
   "execution_count": null,
   "id": "099f1e85",
   "metadata": {},
   "outputs": [],
   "source": [
    "# print() is expecting to see a string, but if it sees an integer or float, it will attempt to convert it to a string\n",
    "# and then show it on the screen\n",
    "print(10)\n",
    "print(\"10\")\n",
    "print(10.0)"
   ]
  },
  {
   "cell_type": "markdown",
   "id": "8c1dfa98",
   "metadata": {},
   "source": [
    "If we want to print variables along with other text, we can use commas to separate each of the things that we want to print."
   ]
  },
  {
   "cell_type": "code",
   "execution_count": null,
   "id": "4a441a36",
   "metadata": {},
   "outputs": [],
   "source": [
    "this_year = 2021\n",
    "print(\"The year is\", this_year)"
   ]
  },
  {
   "cell_type": "markdown",
   "id": "3b564c74",
   "metadata": {},
   "source": [
    "For now, we will just stick to input() and print() as our ways of getting input from the user and outputting things to the screen. Take some time to experiment with input() and print(). Remember, *getting errors is a good way to learn how things work!*"
   ]
  },
  {
   "cell_type": "code",
   "execution_count": null,
   "id": "30db560a",
   "metadata": {},
   "outputs": [],
   "source": [
    "# Experiment with input() and print() below:\n",
    "\n",
    "\n"
   ]
  },
  {
   "cell_type": "markdown",
   "id": "397d09af",
   "metadata": {},
   "source": [
    "## Conditional Statements & Boolean Operations"
   ]
  },
  {
   "cell_type": "markdown",
   "id": "1d71d46b",
   "metadata": {},
   "source": [
    "Up to this point, we have mostly ignored one type of variable. *Booleans* (named after the mathematician George Boole) are a type of variable that can only be either True or False. This might sound familiar as a way that some people discuss how computers work (\"everything is either 1 or 0\"). Booleans are critical when we try to create programs that can adapt and run differently when they receive different inputs."
   ]
  },
  {
   "cell_type": "code",
   "execution_count": null,
   "id": "503cbcbb",
   "metadata": {},
   "outputs": [],
   "source": [
    "# Booleans can only be True or False\n",
    "my_boolean = True\n",
    "print(my_boolean)"
   ]
  },
  {
   "cell_type": "markdown",
   "id": "301b66bc",
   "metadata": {},
   "source": [
    "One of the most foundational commands that we'll discuss is the \"if statement\". An if statement allows us to test some condition *that must evaluate to a Boolean* and then execute certain code only if that condition is True."
   ]
  },
  {
   "cell_type": "code",
   "execution_count": null,
   "id": "33ab1346",
   "metadata": {},
   "outputs": [],
   "source": [
    "# If the boolean value that follows the \"if\" keyword is True, then the code right after it will execute.\n",
    "# If the boolean value that follows the \"if\" keyword is False, then the code after the \"else\" keyword will execute.\n",
    "my_new_boolean = True\n",
    "if my_new_boolean:\n",
    "    print(\"my_new_boolean is True!\")\n",
    "else:\n",
    "    print(\"my_new_boolean is False!\")"
   ]
  },
  {
   "cell_type": "markdown",
   "id": "8904a9a6",
   "metadata": {},
   "source": [
    "The \"else\" keyword is not mandatory. You may decide to execute something only if the Boolean value after the \"if\" is True, but otherwise just continue running your program."
   ]
  },
  {
   "cell_type": "code",
   "execution_count": null,
   "id": "42bde4b8",
   "metadata": {},
   "outputs": [],
   "source": [
    "my_false_boolean = False\n",
    "if my_false_boolean:\n",
    "    print(\"This won't run unless my_false_boolean is True\")\n",
    "print(\"This will run no matter what.\")"
   ]
  },
  {
   "cell_type": "markdown",
   "id": "70e21c00",
   "metadata": {},
   "source": [
    "## Indentation\n",
    "Python is an unusual programming language because *indentation matters*. What that means is that the two blocks of code below will run differently, even though they look the same except for the spaces."
   ]
  },
  {
   "cell_type": "code",
   "execution_count": null,
   "id": "302b8df7",
   "metadata": {},
   "outputs": [],
   "source": [
    "my_sample_boolean = False\n",
    "if my_sample_boolean:\n",
    "    print(\"Because my_sample_boolean is True, I'll do this\")\n",
    "    print(\"then also this\")\n",
    "    "
   ]
  },
  {
   "cell_type": "code",
   "execution_count": null,
   "id": "c02f1416",
   "metadata": {},
   "outputs": [],
   "source": [
    "my_sample_boolean = False\n",
    "if my_sample_boolean:\n",
    "    print(\"Because my_sample_boolean is True, I'll do this\")\n",
    "print(\"then also this\")"
   ]
  },
  {
   "cell_type": "markdown",
   "id": "0a2568fe",
   "metadata": {},
   "source": [
    "If your code doesn't seem to be running how you would expect it to, you should start by looking at whether things are indented the correct way. With practice, it will become easy to keep track."
   ]
  },
  {
   "cell_type": "markdown",
   "id": "c733ff46",
   "metadata": {},
   "source": [
    "## Back to Conditional Statements\n",
    "\n",
    "While True and False are the only Boolean values, we can also *compare* values to arrive at True or False. Think of it like asking a question to the computer about whether or not some fact is True. As you learned in math class, we have *comparison operators* like < (less-than), > (greater-than), <= (less-than-or-equal-to), >= (greater-than-or-equal-to), == (equal-to), and != (not-equal-to)."
   ]
  },
  {
   "cell_type": "code",
   "execution_count": null,
   "id": "2592d5ff",
   "metadata": {},
   "outputs": [],
   "source": [
    "print(\"Is 1 greater than 2?\", 1 > 2)\n",
    "print(\"Is 10 equal to 10?\", 10 == 10)\n",
    "print(\"Is 7 not equal to 4?\", 7 != 4)\n",
    "print(\"Is 11 less than or equal to 100?\", 11 <= 100)"
   ]
  },
  {
   "cell_type": "markdown",
   "id": "a7db8aac",
   "metadata": {},
   "source": [
    "Putting together what we learned about input and output along with conditional statements and Booleans, we can ask the user for input and then our program can change how it runs based on what the user entered. (Don't forget, input takes in *strings*, so we have to convert the input to an integer before we can compare it to 100)"
   ]
  },
  {
   "cell_type": "code",
   "execution_count": null,
   "id": "b4dcadae",
   "metadata": {},
   "outputs": [],
   "source": [
    "print(\"Please enter a number less than 100:\")\n",
    "num = input()\n",
    "if int(num) < 100:\n",
    "    print(\"Thank you for listening to my instructions!\")\n",
    "else:\n",
    "    print(\"What?! That number isn't less than 100!\")"
   ]
  },
  {
   "cell_type": "markdown",
   "id": "3759a5a2",
   "metadata": {},
   "source": [
    "Before we finish with conditionals, we need to learn how to combine multiple conditions together when we write an if statement. For example, we might want to execute some code only if the number the user inputs is both less than 100 AND greater than 0. For that we can use the keyword \"and\"."
   ]
  },
  {
   "cell_type": "code",
   "execution_count": null,
   "id": "f2051fb3",
   "metadata": {},
   "outputs": [],
   "source": [
    "print(\"Please enter a number less than 100 and greater than 0:\")\n",
    "num = input()\n",
    "if int(num) < 100 and int(num) > 0:\n",
    "    print(\"Thank you for listening to my instructions!\")\n",
    "else:\n",
    "    print(\"What?! That number isn't less than 100 AND greater than 0!\")"
   ]
  },
  {
   "cell_type": "markdown",
   "id": "2f875d1b",
   "metadata": {},
   "source": [
    "When we use an \"and\", the left side and right side of the operator will be compared. \"A and B\" is only True if both A and B are True."
   ]
  },
  {
   "cell_type": "code",
   "execution_count": null,
   "id": "3d2a2697",
   "metadata": {},
   "outputs": [],
   "source": [
    "# Experiment with changing my_first_bool and my_second_bool between False and True to see how the output changes\n",
    "my_first_bool = True\n",
    "my_second_bool = True\n",
    "if my_first_bool and my_second_bool:\n",
    "    print(\"Both of my Booleans are True!\")\n",
    "else:\n",
    "    print(\"At least one of my Booleans is False!\")"
   ]
  },
  {
   "cell_type": "markdown",
   "id": "b3897f88",
   "metadata": {},
   "source": [
    "We might also care whether EITHER of two conditions is True. That is where the \"or\" keyword becomes useful. \"or\" works like \"and\", except \"A or B\" is True if *at least one of* A and B is True."
   ]
  },
  {
   "cell_type": "code",
   "execution_count": null,
   "id": "60e0e09c",
   "metadata": {},
   "outputs": [],
   "source": [
    "# Experiment with changing my_first_bool and my_second_bool between False and True to see how the output changes\n",
    "my_first_bool = True\n",
    "my_second_bool = False\n",
    "if my_first_bool or my_second_bool:\n",
    "    print(\"At least ONE of my Booleans is True!\")\n",
    "else:\n",
    "    print(\"Neither of my Booleans is True!\")"
   ]
  },
  {
   "cell_type": "markdown",
   "id": "b6a196cc",
   "metadata": {},
   "source": [
    "Lastly, we might want to execute some code only if something IS NOT True. For this, we can use the \"not\" keyword to negate whatever comes after it. In other words, the \"not\" keyword \"flips\" whatever comes after it to the opposite Boolean value (True becomes False and False becomes True)."
   ]
  },
  {
   "cell_type": "code",
   "execution_count": null,
   "id": "72844deb",
   "metadata": {},
   "outputs": [],
   "source": [
    "my_newest_bool = False\n",
    "if not my_newest_bool:\n",
    "    print(\"my_newest_bool is False, so 'not my_newest_bool' is True!\")\n",
    "else:\n",
    "    print(\"my_newest_bool must be True, which means 'not my_newest_bool' is False!\")"
   ]
  }
 ],
 "metadata": {
  "kernelspec": {
   "display_name": "Python 3",
   "language": "python",
   "name": "python3"
  },
  "language_info": {
   "codemirror_mode": {
    "name": "ipython",
    "version": 3
   },
   "file_extension": ".py",
   "mimetype": "text/x-python",
   "name": "python",
   "nbconvert_exporter": "python",
   "pygments_lexer": "ipython3",
   "version": "3.8.5"
  }
 },
 "nbformat": 4,
 "nbformat_minor": 5
}
